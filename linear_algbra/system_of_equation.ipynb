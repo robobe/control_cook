{
 "cells": [
  {
   "cell_type": "code",
   "execution_count": 1,
   "metadata": {},
   "outputs": [],
   "source": [
    "import numpy as np"
   ]
  },
  {
   "cell_type": "markdown",
   "metadata": {},
   "source": [
    "# Solving Linear Systems\n",
    "## gaussian elimination\n",
    "[youtube](https://www.youtube.com/watch?v=C2QI3eeIiVc)\n",
    "\n",
    "\\begin{array}{ccc|c}\n",
    "2 & 1 & -1 & 1 \\\\\n",
    "3 & 4 & 2 & 13 \\\\\n",
    "1 & -5 & -2 & 0  \\\\\n",
    "\\end{array}\n"
   ]
  },
  {
   "cell_type": "markdown",
   "metadata": {},
   "source": [
    "# Python numpy\n",
    "using inverse\n",
    "\n",
    "2x +1y - z=1  \n",
    "3x +4y -2z=13  \n",
    " x -5y -2z=0  \n",
    "\n",
    "$\n",
    "A=\\begin{bmatrix}\n",
    "2 & 1 & -1\\\\ \n",
    "3 & 4 & 2\\\\ \n",
    "1 & -5 & -2 \n",
    "\\end{bmatrix}\n",
    "$\n",
    "$\n",
    "X=\\begin{bmatrix}\n",
    "x \\\\ \n",
    "y \\\\ \n",
    "z  \n",
    "\\end{bmatrix}\n",
    "$\n",
    "\n",
    "$\n",
    "B=\\begin{bmatrix}\n",
    "1 \\\\ \n",
    "13 \\\\ \n",
    "0  \n",
    "\\end{bmatrix}\n",
    "$\n",
    "\n",
    "$\n",
    "X=A^{-1}B\n",
    "$"
   ]
  },
  {
   "cell_type": "code",
   "execution_count": 12,
   "metadata": {},
   "outputs": [],
   "source": [
    "A=np.array([[2,1,-1],[3,4,2], [1,-5,-2]])\n",
    "B=np.array([1,13,0])\n"
   ]
  },
  {
   "cell_type": "code",
   "execution_count": 13,
   "metadata": {},
   "outputs": [
    {
     "name": "stdout",
     "output_type": "stream",
     "text": [
      "[ 3. -1.  4.]\n"
     ]
    }
   ],
   "source": [
    "x=np.linalg.inv(A).dot(B)\n",
    "print(x)"
   ]
  },
  {
   "cell_type": "code",
   "execution_count": 14,
   "metadata": {},
   "outputs": [
    {
     "name": "stdout",
     "output_type": "stream",
     "text": [
      "[ 3. -1.  4.]\n"
     ]
    }
   ],
   "source": [
    "x2 = np.linalg.solve(A,B)\n",
    "print(x2)"
   ]
  },
  {
   "cell_type": "markdown",
   "metadata": {},
   "source": [
    "# Inverse\n",
    "[youtube](https://www.youtube.com/watch?v=vTy2ymNuC0I)\n",
    "\n",
    "$\n",
    "A=\\begin{bmatrix}\n",
    "3 & -2\\\\ \n",
    "-7 & 4\n",
    "\\end{bmatrix}\n",
    "$\n",
    "if $ad-bc \\neq 0$, A in invertible\n",
    "$\n",
    "A^{-1}=\\frac{1}{ad-bc}\\begin{bmatrix}\n",
    "d & -b\\\\ \n",
    "-c & a\n",
    "\\end{bmatrix}\n",
    "$\n",
    "\n",
    "Example\n",
    "$\n",
    "A=\\begin{bmatrix}\n",
    "3 & 2\\\\ \n",
    "7 & 4\n",
    "\\end{bmatrix}\n",
    "$\n",
    "\n",
    "$\n",
    "A^{-1}=\\frac{1}{3(4)-2(7))}\\begin{bmatrix}\n",
    "4 & -2\\\\ \n",
    "-7 & 3\n",
    "\\end{bmatrix}=-\\frac{1}{2}\\begin{bmatrix}\n",
    "4 & -2\\\\ \n",
    "-7 & 3\n",
    "\\end{bmatrix}=\\begin{bmatrix}\n",
    "-2 & 1\\\\ \n",
    "3.5 & 1.5\n",
    "\\end{bmatrix}\n",
    "$"
   ]
  },
  {
   "cell_type": "markdown",
   "metadata": {},
   "source": [
    "# Python numpy way"
   ]
  },
  {
   "cell_type": "code",
   "execution_count": 15,
   "metadata": {},
   "outputs": [
    {
     "name": "stdout",
     "output_type": "stream",
     "text": [
      "[[-2.   1. ]\n",
      " [ 3.5 -1.5]]\n"
     ]
    }
   ],
   "source": [
    "A = np.array([[3, 2], [7, 4]])\n",
    "I = np.linalg.inv(A)\n",
    "print(I)"
   ]
  },
  {
   "cell_type": "code",
   "execution_count": null,
   "metadata": {},
   "outputs": [],
   "source": []
  }
 ],
 "metadata": {
  "interpreter": {
   "hash": "df5b9ef6e89b03524f289ce69564f140d55c6446942a143e4565aec856895243"
  },
  "kernelspec": {
   "display_name": "Python 3.8.10 64-bit ('venv': venv)",
   "language": "python",
   "name": "python3"
  },
  "language_info": {
   "codemirror_mode": {
    "name": "ipython",
    "version": 3
   },
   "file_extension": ".py",
   "mimetype": "text/x-python",
   "name": "python",
   "nbconvert_exporter": "python",
   "pygments_lexer": "ipython3",
   "version": "3.8.10"
  },
  "orig_nbformat": 4
 },
 "nbformat": 4,
 "nbformat_minor": 2
}
